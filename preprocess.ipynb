{
 "cells": [
  {
   "cell_type": "code",
   "execution_count": 10,
   "metadata": {},
   "outputs": [
    {
     "name": "stdout",
     "output_type": "stream",
     "text": [
      "            id                 date  likes  \\\n",
      "0            1  2020-12-12 00:47:00      1   \n",
      "1            2  2018-06-30 10:04:20   2750   \n",
      "2            3  2020-09-29 19:47:28     57   \n",
      "3            4  2020-10-01 11:40:09    152   \n",
      "4            5  2018-10-19 14:30:46     41   \n",
      "...        ...                  ...    ...   \n",
      "299995  299996  2019-09-07 16:18:10      0   \n",
      "299996  299997  2018-02-23 11:24:36     46   \n",
      "299997  299998  2020-11-11 20:18:15    261   \n",
      "299998  299999  2019-10-29 10:44:00    119   \n",
      "299999  300000  2018-08-26 01:19:09    714   \n",
      "\n",
      "                                                  content        username  \\\n",
      "0       Spend your weekend morning with a Ham, Egg, an...    TimHortonsPH   \n",
      "1       Watch rapper <mention> freestyle for over an H...       IndyMusic   \n",
      "2       Canadian Armenian community demands ban on mil...       CBCCanada   \n",
      "3       1st in Europe to be devastated by COVID-19, It...  MKWilliamsRome   \n",
      "4       Congratulations to Pauletha Butts of <mention>...           BGISD   \n",
      "...                                                   ...             ...   \n",
      "299995  Barcelona Star Expected To Return Against Vale...  IndependentNGR   \n",
      "299996  Kjeld Nuis of #NED is golden again... This tim...     CBCOlympics   \n",
      "299997  Grateful 🙌🏾 to have <mention> officially join ...   TeamCoachBuzz   \n",
      "299998  The US Air Force's mysterious space plane just...     Independent   \n",
      "299999  In 1967, he was shot down over Vietnam. By 200...            cnni   \n",
      "\n",
      "                                                    media inferred company  \n",
      "0       [Photo(previewUrl='https://pbs.twimg.com/media...      tim hortons  \n",
      "1       [Photo(previewUrl='https://pbs.twimg.com/media...      independent  \n",
      "2       [Photo(previewUrl='https://pbs.twimg.com/media...              cbc  \n",
      "3       [Photo(previewUrl='https://pbs.twimg.com/media...         williams  \n",
      "4       [Photo(previewUrl='https://pbs.twimg.com/media...      independent  \n",
      "...                                                   ...              ...  \n",
      "299995  [Photo(previewUrl='https://pbs.twimg.com/media...      independent  \n",
      "299996  [Video(thumbnailUrl='https://pbs.twimg.com/med...              cbc  \n",
      "299997  [Photo(previewUrl='https://pbs.twimg.com/media...         williams  \n",
      "299998  [Video(thumbnailUrl='https://pbs.twimg.com/med...      independent  \n",
      "299999  [Video(thumbnailUrl='https://pbs.twimg.com/ext...              cnn  \n",
      "\n",
      "[300000 rows x 7 columns]\n",
      "                                                 content  score\n",
      "0                                         #NRLManlyStorm    1.0\n",
      "1                                               #Boomers    1.0\n",
      "2                                         #AFLCrowsPower    1.0\n",
      "3                                            Patty Mills    1.0\n",
      "4                                        #AFLSaintsSwans    1.0\n",
      "...                                                  ...    ...\n",
      "37537  New York City. Saturday night live! <mention> ...    3.0\n",
      "37538  We chat to <mention> ,SABC Meteorologist about...  122.0\n",
      "37539  White House summit on vaccines goes off rails ...  770.0\n",
      "37540  Sports Minister Relocates To M.K.O Abiola Stad...    1.0\n",
      "37541  “We've proven as organisations, that remote wo...    1.0\n",
      "\n",
      "[37542 rows x 2 columns]\n"
     ]
    }
   ],
   "source": [
    "import pandas as pd\n",
    "import os\n",
    "\n",
    "data = {'content':[],'score':[]}\n",
    "df1 = pd.read_csv('Data/twitter_data.csv')\n",
    "for i in range(len(df1)):\n",
    "    data['content'].append(df1['hashtag'][i])\n",
    "    data['score'].append(df1['count'][i])\n",
    "\n",
    "df2 = pd.read_csv('Data/train_advance.csv')\n",
    "for i in range(len(df2)):\n",
    "    data['content'].append(df2['description'][i])\n",
    "    data['score'].append((df2['numbr_likes'][i]+df2['number_comments'][i])//2)\n",
    "\n",
    "df3 = pd.read_csv('Data/sentimentdataset.csv')\n",
    "for i in range(len(df3)):\n",
    "    data['content'].append(df3['Text'][i]+' '+df3['Hashtags'][i])\n",
    "    data['score'].append((df3['Retweets'][i]+df3['Likes'][i])//2)\n",
    "\n",
    "df4 = pd.read_excel('Data/behaviour_simulation_train.xlsx')\n",
    "for i in range(len(df3)):\n",
    "    data['content'].append(df4['content'][i])\n",
    "    data['score'].append(df4['likes'][i])\n",
    "print(df4)\n",
    "data = pd.DataFrame(data).fillna(5)\n",
    "print(data)\n",
    "data.to_csv('Data/data.csv',index=False)\n"
   ]
  },
  {
   "cell_type": "code",
   "execution_count": null,
   "metadata": {},
   "outputs": [],
   "source": []
  }
 ],
 "metadata": {
  "kernelspec": {
   "display_name": "env",
   "language": "python",
   "name": "python3"
  },
  "language_info": {
   "codemirror_mode": {
    "name": "ipython",
    "version": 3
   },
   "file_extension": ".py",
   "mimetype": "text/x-python",
   "name": "python",
   "nbconvert_exporter": "python",
   "pygments_lexer": "ipython3",
   "version": "3.11.9"
  }
 },
 "nbformat": 4,
 "nbformat_minor": 2
}
